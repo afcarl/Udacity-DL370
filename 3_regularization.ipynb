{
 "cells": [
  {
   "cell_type": "markdown",
   "metadata": {
    "colab_type": "text",
    "id": "kR-4eNdK6lYS"
   },
   "source": [
    "Deep Learning\n",
    "=============\n",
    "\n",
    "Assignment 3\n",
    "------------\n",
    "\n",
    "Previously in `2_fullyconnected.ipynb`, you trained a logistic regression and a neural network model.\n",
    "\n",
    "The goal of this assignment is to explore regularization techniques."
   ]
  },
  {
   "cell_type": "code",
   "execution_count": 1,
   "metadata": {
    "cellView": "both",
    "colab": {
     "autoexec": {
      "startup": false,
      "wait_interval": 0
     }
    },
    "colab_type": "code",
    "collapsed": true,
    "id": "JLpLa8Jt7Vu4"
   },
   "outputs": [],
   "source": [
    "# These are all the modules we'll be using later. Make sure you can import them\n",
    "# before proceeding further.\n",
    "from __future__ import print_function\n",
    "import numpy as np\n",
    "import tensorflow as tf\n",
    "from six.moves import cPickle as pickle"
   ]
  },
  {
   "cell_type": "markdown",
   "metadata": {
    "colab_type": "text",
    "id": "1HrCK6e17WzV"
   },
   "source": [
    "First reload the data we generated in `1_notmnist.ipynb`."
   ]
  },
  {
   "cell_type": "code",
   "execution_count": 2,
   "metadata": {
    "cellView": "both",
    "colab": {
     "autoexec": {
      "startup": false,
      "wait_interval": 0
     },
     "output_extras": [
      {
       "item_id": 1
      }
     ]
    },
    "colab_type": "code",
    "collapsed": false,
    "executionInfo": {
     "elapsed": 11777,
     "status": "ok",
     "timestamp": 1449849322348,
     "user": {
      "color": "",
      "displayName": "",
      "isAnonymous": false,
      "isMe": true,
      "permissionId": "",
      "photoUrl": "",
      "sessionId": "0",
      "userId": ""
     },
     "user_tz": 480
    },
    "id": "y3-cj1bpmuxc",
    "outputId": "e03576f1-ebbe-4838-c388-f1777bcc9873"
   },
   "outputs": [
    {
     "name": "stdout",
     "output_type": "stream",
     "text": [
      "Training set (200000, 28, 28) (200000,)\n",
      "Validation set (10000, 28, 28) (10000,)\n",
      "Test set (10000, 28, 28) (10000,)\n"
     ]
    }
   ],
   "source": [
    "pickle_file = 'notMNIST.pickle'\n",
    "\n",
    "with open(pickle_file, 'rb') as f:\n",
    "  save = pickle.load(f)\n",
    "  train_dataset = save['train_dataset']\n",
    "  train_labels = save['train_labels']\n",
    "  valid_dataset = save['valid_dataset']\n",
    "  valid_labels = save['valid_labels']\n",
    "  test_dataset = save['test_dataset']\n",
    "  test_labels = save['test_labels']\n",
    "  del save  # hint to help gc free up memory\n",
    "  print('Training set', train_dataset.shape, train_labels.shape)\n",
    "  print('Validation set', valid_dataset.shape, valid_labels.shape)\n",
    "  print('Test set', test_dataset.shape, test_labels.shape)"
   ]
  },
  {
   "cell_type": "markdown",
   "metadata": {
    "colab_type": "text",
    "id": "L7aHrm6nGDMB"
   },
   "source": [
    "Reformat into a shape that's more adapted to the models we're going to train:\n",
    "- data as a flat matrix,\n",
    "- labels as float 1-hot encodings."
   ]
  },
  {
   "cell_type": "code",
   "execution_count": 3,
   "metadata": {
    "cellView": "both",
    "colab": {
     "autoexec": {
      "startup": false,
      "wait_interval": 0
     },
     "output_extras": [
      {
       "item_id": 1
      }
     ]
    },
    "colab_type": "code",
    "collapsed": false,
    "executionInfo": {
     "elapsed": 11728,
     "status": "ok",
     "timestamp": 1449849322356,
     "user": {
      "color": "",
      "displayName": "",
      "isAnonymous": false,
      "isMe": true,
      "permissionId": "",
      "photoUrl": "",
      "sessionId": "0",
      "userId": ""
     },
     "user_tz": 480
    },
    "id": "IRSyYiIIGIzS",
    "outputId": "3f8996ee-3574-4f44-c953-5c8a04636582"
   },
   "outputs": [
    {
     "name": "stdout",
     "output_type": "stream",
     "text": [
      "Training set (200000, 784) (200000, 10)\n",
      "Validation set (10000, 784) (10000, 10)\n",
      "Test set (10000, 784) (10000, 10)\n"
     ]
    }
   ],
   "source": [
    "image_size = 28\n",
    "num_labels = 10\n",
    "\n",
    "def reformat(dataset, labels):\n",
    "  dataset = dataset.reshape((-1, image_size * image_size)).astype(np.float32)\n",
    "  # Map 1 to [0.0, 1.0, 0.0 ...], 2 to [0.0, 0.0, 1.0 ...]\n",
    "  labels = (np.arange(num_labels) == labels[:,None]).astype(np.float32)\n",
    "  return dataset, labels\n",
    "train_dataset, train_labels = reformat(train_dataset, train_labels)\n",
    "valid_dataset, valid_labels = reformat(valid_dataset, valid_labels)\n",
    "test_dataset, test_labels = reformat(test_dataset, test_labels)\n",
    "print('Training set', train_dataset.shape, train_labels.shape)\n",
    "print('Validation set', valid_dataset.shape, valid_labels.shape)\n",
    "print('Test set', test_dataset.shape, test_labels.shape)"
   ]
  },
  {
   "cell_type": "code",
   "execution_count": 4,
   "metadata": {
    "cellView": "both",
    "colab": {
     "autoexec": {
      "startup": false,
      "wait_interval": 0
     }
    },
    "colab_type": "code",
    "collapsed": true,
    "id": "RajPLaL_ZW6w"
   },
   "outputs": [],
   "source": [
    "def accuracy(predictions, labels):\n",
    "  return (100.0 * np.sum(np.argmax(predictions, 1) == np.argmax(labels, 1))\n",
    "          / predictions.shape[0])"
   ]
  },
  {
   "cell_type": "markdown",
   "metadata": {
    "colab_type": "text",
    "id": "sgLbUAQ1CW-1"
   },
   "source": [
    "---\n",
    "Problem 1\n",
    "---------\n",
    "\n",
    "Introduce and tune L2 regularization for both logistic and neural network models. Remember that L2 amounts to adding a penalty on the norm of the weights to the loss. In TensorFlow, you can compute the L2 loss for a tensor `t` using `nn.l2_loss(t)`. The right amount of regularization should improve your validation / test accuracy.\n",
    "\n",
    "---"
   ]
  },
  {
   "cell_type": "markdown",
   "metadata": {},
   "source": [
    "### Logistic Regression"
   ]
  },
  {
   "cell_type": "code",
   "execution_count": 5,
   "metadata": {
    "collapsed": true
   },
   "outputs": [],
   "source": [
    "batch_size = 128\n",
    "\n",
    "graph = tf.Graph()\n",
    "with graph.as_default():\n",
    "    \n",
    "    tf_train_dataset = tf.placeholder(tf.float32, shape=(batch_size, image_size*image_size))\n",
    "    tf_train_labels = tf.placeholder(tf.float32, shape=(batch_size, num_labels))\n",
    "    tf_valid_dataset = tf.constant(valid_dataset)\n",
    "    tf_test_dataset = tf.constant(test_dataset)\n",
    "    beta_l2 = tf.placeholder(tf.float32)\n",
    "    \n",
    "    weights = tf.Variable(tf.truncated_normal([image_size*image_size, num_labels]))\n",
    "    biases = tf.Variable(tf.zeros(num_labels))\n",
    "    \n",
    "    logits = tf.matmul(tf_train_dataset, weights) + biases\n",
    "    \n",
    "    loss = tf.reduce_mean(tf.nn.softmax_cross_entropy_with_logits(logits=logits, labels=tf_train_labels)) + beta_l2 * tf.nn.l2_loss(weights)\n",
    "    \n",
    "    optimizer = tf.train.GradientDescentOptimizer(0.5).minimize(loss)\n",
    "    \n",
    "    train_prediction = tf.nn.softmax(logits)\n",
    "    valid_prediction = tf.nn.softmax(tf.matmul(tf_valid_dataset, weights) + biases)\n",
    "    test_prediction = tf.nn.softmax(tf.matmul(tf_test_dataset, weights) + biases)"
   ]
  },
  {
   "cell_type": "code",
   "execution_count": 6,
   "metadata": {
    "collapsed": false
   },
   "outputs": [
    {
     "name": "stdout",
     "output_type": "stream",
     "text": [
      "Minibatch Loss at step 0: 21.004559\n",
      "Minibatch Accuracy: 8.6%\n",
      "Validation Accuracy: 9.4%\n",
      "Minibatch Loss at step 500: 2.632106\n",
      "Minibatch Accuracy: 75.8%\n",
      "Validation Accuracy: 75.9%\n",
      "Minibatch Loss at step 1000: 1.697345\n",
      "Minibatch Accuracy: 77.3%\n",
      "Validation Accuracy: 78.5%\n",
      "Minibatch Loss at step 1500: 1.304674\n",
      "Minibatch Accuracy: 77.3%\n",
      "Validation Accuracy: 79.5%\n",
      "Minibatch Loss at step 2000: 0.910530\n",
      "Minibatch Accuracy: 82.0%\n",
      "Validation Accuracy: 80.6%\n",
      "Minibatch Loss at step 2500: 0.645776\n",
      "Minibatch Accuracy: 85.2%\n",
      "Validation Accuracy: 81.5%\n",
      "Minibatch Loss at step 3000: 0.836647\n",
      "Minibatch Accuracy: 82.8%\n",
      "Validation Accuracy: 81.9%\n",
      "Test set Accuracy: 89.3%\n"
     ]
    }
   ],
   "source": [
    "num_steps = 3001\n",
    "\n",
    "with tf.Session(graph=graph) as session:\n",
    "    tf.global_variables_initializer().run()\n",
    "    \n",
    "    for step in range(num_steps):\n",
    "        offset = (step * batch_size) % (train_dataset.shape[0] - batch_size)\n",
    "        batch_data = train_dataset[offset:offset + batch_size,:]\n",
    "        batch_label = train_labels[offset:offset + batch_size,:]\n",
    "        feed_dict = {tf_train_dataset:batch_data, tf_train_labels:batch_label, beta_l2:1e-3}\n",
    "        _, l, predictions = session.run([optimizer, loss, train_prediction], feed_dict=feed_dict)\n",
    "        if step%500 == 0:\n",
    "            print(\"Minibatch Loss at step %d: %f\" % (step, l))\n",
    "            print(\"Minibatch Accuracy: %.1f%%\" % accuracy(predictions, batch_label))\n",
    "            print(\"Validation Accuracy: %.1f%%\" % accuracy(valid_prediction.eval(), valid_labels))\n",
    "    print(\"Test set Accuracy: %.1f%%\" % accuracy(test_prediction.eval(), test_labels))"
   ]
  },
  {
   "cell_type": "markdown",
   "metadata": {},
   "source": [
    "### 1 Layer NN"
   ]
  },
  {
   "cell_type": "code",
   "execution_count": 7,
   "metadata": {
    "collapsed": false
   },
   "outputs": [],
   "source": [
    "batch_size = 128\n",
    "hidden_layers = 1024\n",
    "\n",
    "graph = tf.Graph()\n",
    "with graph.as_default():\n",
    "    \n",
    "    tf_train_dataset = tf.placeholder(tf.float32, shape=(batch_size, image_size*image_size))\n",
    "    tf_train_labels = tf.placeholder(tf.float32, shape=(batch_size, num_labels))\n",
    "    tf_valid_dataset = tf.constant(valid_dataset)\n",
    "    tf_test_dataset = tf.constant(test_dataset)\n",
    "    beta_l2 = tf.placeholder(tf.float32)\n",
    "    \n",
    "    weights1 = tf.Variable(tf.truncated_normal([image_size*image_size, hidden_layers]))\n",
    "    biases1 = tf.Variable(tf.zeros(hidden_layers))\n",
    "    \n",
    "    weights2 = tf.Variable(tf.truncated_normal([hidden_layers, num_labels]))\n",
    "    biases2 = tf.Variable(tf.zeros(num_labels))\n",
    "    \n",
    "    hidden_train = tf.nn.relu(tf.matmul(tf_train_dataset, weights1) + biases1)\n",
    "    logits = tf.matmul(hidden_train, weights2) + biases2\n",
    "    \n",
    "    loss = tf.reduce_mean(tf.nn.softmax_cross_entropy_with_logits(logits=logits, labels=tf_train_labels)) + beta_l2 * (tf.nn.l2_loss(weights1) + tf.nn.l2_loss(weights2))\n",
    "    \n",
    "    optimizer = tf.train.GradientDescentOptimizer(0.5).minimize(loss)\n",
    "    \n",
    "    train_prediction = tf.nn.softmax(logits)\n",
    "    hidden_valid = tf.nn.relu(tf.matmul(tf_valid_dataset, weights1) + biases1)\n",
    "    valid_prediction = tf.nn.softmax(tf.matmul(hidden_valid, weights2) + biases2)\n",
    "    hidden_test = tf.nn.relu(tf.matmul(tf_test_dataset, weights1) + biases1)\n",
    "    test_prediction = tf.nn.softmax(tf.matmul(hidden_test, weights2) + biases2)"
   ]
  },
  {
   "cell_type": "code",
   "execution_count": 8,
   "metadata": {
    "collapsed": false
   },
   "outputs": [
    {
     "name": "stdout",
     "output_type": "stream",
     "text": [
      "Minibatch Loss at step 0: 696.910400\n",
      "Minibatch Accuracy: 15.6%\n",
      "Validation Accuracy: 38.7%\n",
      "Minibatch Loss at step 500: 193.818024\n",
      "Minibatch Accuracy: 78.9%\n",
      "Validation Accuracy: 81.0%\n",
      "Minibatch Loss at step 1000: 115.312531\n",
      "Minibatch Accuracy: 82.8%\n",
      "Validation Accuracy: 81.8%\n",
      "Minibatch Loss at step 1500: 68.376289\n",
      "Minibatch Accuracy: 81.2%\n",
      "Validation Accuracy: 82.8%\n",
      "Minibatch Loss at step 2000: 41.354225\n",
      "Minibatch Accuracy: 87.5%\n",
      "Validation Accuracy: 85.1%\n",
      "Minibatch Loss at step 2500: 25.058931\n",
      "Minibatch Accuracy: 91.4%\n",
      "Validation Accuracy: 86.1%\n",
      "Minibatch Loss at step 3000: 15.448546\n",
      "Minibatch Accuracy: 85.2%\n",
      "Validation Accuracy: 86.7%\n",
      "Test set Accuracy: 93.1%\n"
     ]
    }
   ],
   "source": [
    "num_steps = 3001\n",
    "\n",
    "with tf.Session(graph=graph) as session:\n",
    "    tf.global_variables_initializer().run()\n",
    "    \n",
    "    for step in range(num_steps):\n",
    "        offset = (step * batch_size) % (train_dataset.shape[0] - batch_size)\n",
    "        batch_data = train_dataset[offset:offset + batch_size,:]\n",
    "        batch_label = train_labels[offset:offset + batch_size,:]\n",
    "        feed_dict = {tf_train_dataset:batch_data, tf_train_labels:batch_label, beta_l2:1e-3}\n",
    "        _, l, predictions = session.run([optimizer, loss, train_prediction], feed_dict=feed_dict)\n",
    "        if step%500 == 0:\n",
    "            print(\"Minibatch Loss at step %d: %f\" % (step, l))\n",
    "            print(\"Minibatch Accuracy: %.1f%%\" % accuracy(predictions, batch_label))\n",
    "            print(\"Validation Accuracy: %.1f%%\" % accuracy(valid_prediction.eval(), valid_labels))\n",
    "    print(\"Test set Accuracy: %.1f%%\" % accuracy(test_prediction.eval(), test_labels))"
   ]
  },
  {
   "cell_type": "markdown",
   "metadata": {
    "colab_type": "text",
    "id": "na8xX2yHZzNF"
   },
   "source": [
    "---\n",
    "Problem 2\n",
    "---------\n",
    "Let's demonstrate an extreme case of overfitting. Restrict your training data to just a few batches. What happens?\n",
    "\n",
    "---"
   ]
  },
  {
   "cell_type": "code",
   "execution_count": 9,
   "metadata": {
    "collapsed": true
   },
   "outputs": [],
   "source": [
    "batch_size = 128\n",
    "hidden_layers = 1024\n",
    "\n",
    "graph = tf.Graph()\n",
    "with graph.as_default():\n",
    "    \n",
    "    tf_train_dataset = tf.placeholder(tf.float32, shape=(batch_size, image_size*image_size))\n",
    "    tf_train_labels = tf.placeholder(tf.float32, shape=(batch_size, num_labels))\n",
    "    tf_valid_dataset = tf.constant(valid_dataset)\n",
    "    tf_test_dataset = tf.constant(test_dataset)\n",
    "    beta_l2 = tf.placeholder(tf.float32)\n",
    "    \n",
    "    weights1 = tf.Variable(tf.truncated_normal([image_size*image_size, hidden_layers]))\n",
    "    biases1 = tf.Variable(tf.zeros(hidden_layers))\n",
    "    \n",
    "    weights2 = tf.Variable(tf.truncated_normal([hidden_layers, num_labels]))\n",
    "    biases2 = tf.Variable(tf.zeros(num_labels))\n",
    "    \n",
    "    hidden_train = tf.nn.relu(tf.matmul(tf_train_dataset, weights1) + biases1)\n",
    "    logits = tf.matmul(hidden_train, weights2) + biases2\n",
    "    \n",
    "    loss = tf.reduce_mean(tf.nn.softmax_cross_entropy_with_logits(logits=logits, labels=tf_train_labels)) + beta_l2 * (tf.nn.l2_loss(weights1) + tf.nn.l2_loss(weights2))\n",
    "    \n",
    "    optimizer = tf.train.GradientDescentOptimizer(0.5).minimize(loss)\n",
    "    \n",
    "    train_prediction = tf.nn.softmax(logits)\n",
    "    hidden_valid = tf.nn.relu(tf.matmul(tf_valid_dataset, weights1) + biases1)\n",
    "    valid_prediction = tf.nn.softmax(tf.matmul(hidden_valid, weights2) + biases2)\n",
    "    hidden_test = tf.nn.relu(tf.matmul(tf_test_dataset, weights1) + biases1)\n",
    "    test_prediction = tf.nn.softmax(tf.matmul(hidden_test, weights2) + biases2)"
   ]
  },
  {
   "cell_type": "code",
   "execution_count": 11,
   "metadata": {
    "collapsed": false,
    "scrolled": false
   },
   "outputs": [
    {
     "name": "stdout",
     "output_type": "stream",
     "text": [
      "Minibatch Loss at step 0: 642.215454\n",
      "Minibatch Accuracy: 5.5%\n",
      "Validation Accuracy: 32.2%\n",
      "Minibatch Loss at step 8: 313.164062\n",
      "Minibatch Accuracy: 98.4%\n",
      "Validation Accuracy: 66.8%\n",
      "Minibatch Loss at step 16: 309.761719\n",
      "Minibatch Accuracy: 100.0%\n",
      "Validation Accuracy: 66.8%\n",
      "Minibatch Loss at step 24: 307.292969\n",
      "Minibatch Accuracy: 100.0%\n",
      "Validation Accuracy: 66.8%\n",
      "Minibatch Loss at step 32: 304.843750\n",
      "Minibatch Accuracy: 100.0%\n",
      "Validation Accuracy: 66.8%\n",
      "Minibatch Loss at step 40: 302.414185\n",
      "Minibatch Accuracy: 100.0%\n",
      "Validation Accuracy: 66.8%\n",
      "Minibatch Loss at step 48: 300.003906\n",
      "Minibatch Accuracy: 100.0%\n",
      "Validation Accuracy: 66.8%\n",
      "Test set Accuracy: 73.6%\n"
     ]
    }
   ],
   "source": [
    "num_steps = 51\n",
    "num_batches = 3\n",
    "\n",
    "with tf.Session(graph=graph) as session:\n",
    "    tf.global_variables_initializer().run()\n",
    "    \n",
    "    for step in range(num_steps):\n",
    "        offset = step % num_batches\n",
    "        batch_data = train_dataset[offset:offset + batch_size,:]\n",
    "        batch_label = train_labels[offset:offset + batch_size,:]\n",
    "        feed_dict = {tf_train_dataset:batch_data, tf_train_labels:batch_label, beta_l2:1e-3}\n",
    "        _, l, predictions = session.run([optimizer, loss, train_prediction], feed_dict=feed_dict)\n",
    "        if step%8 == 0:\n",
    "            print(\"Minibatch Loss at step %d: %f\" % (step, l))\n",
    "            print(\"Minibatch Accuracy: %.1f%%\" % accuracy(predictions, batch_label))\n",
    "            print(\"Validation Accuracy: %.1f%%\" % accuracy(valid_prediction.eval(), valid_labels))\n",
    "    print(\"Test set Accuracy: %.1f%%\" % accuracy(test_prediction.eval(), test_labels))"
   ]
  },
  {
   "cell_type": "markdown",
   "metadata": {
    "colab_type": "text",
    "id": "ww3SCBUdlkRc"
   },
   "source": [
    "---\n",
    "Problem 3\n",
    "---------\n",
    "Introduce Dropout on the hidden layer of the neural network. Remember: Dropout should only be introduced during training, not evaluation, otherwise your evaluation results would be stochastic as well. TensorFlow provides `nn.dropout()` for that, but you have to make sure it's only inserted during training.\n",
    "\n",
    "What happens to our extreme overfitting case?\n",
    "\n",
    "---"
   ]
  },
  {
   "cell_type": "code",
   "execution_count": 12,
   "metadata": {
    "collapsed": true
   },
   "outputs": [],
   "source": [
    "batch_size = 128\n",
    "hidden_layers = 1024\n",
    "\n",
    "graph = tf.Graph()\n",
    "with graph.as_default():\n",
    "    \n",
    "    tf_train_dataset = tf.placeholder(tf.float32, shape=(batch_size, image_size*image_size))\n",
    "    tf_train_labels = tf.placeholder(tf.float32, shape=(batch_size, num_labels))\n",
    "    tf_valid_dataset = tf.constant(valid_dataset)\n",
    "    tf_test_dataset = tf.constant(test_dataset)\n",
    "    beta_l2 = tf.placeholder(tf.float32)\n",
    "    keep_prob = tf.placeholder(tf.float32)\n",
    "    \n",
    "    weights1 = tf.Variable(tf.truncated_normal([image_size*image_size, hidden_layers]))\n",
    "    biases1 = tf.Variable(tf.zeros(hidden_layers))\n",
    "    \n",
    "    weights2 = tf.Variable(tf.truncated_normal([hidden_layers, num_labels]))\n",
    "    biases2 = tf.Variable(tf.zeros(num_labels))\n",
    "    \n",
    "    hidden_train_drop = tf.nn.dropout(tf.nn.relu(tf.matmul(tf_train_dataset, weights1) + biases1), keep_prob=keep_prob)\n",
    "    logits = tf.matmul(hidden_train_drop, weights2) + biases2\n",
    "    \n",
    "    loss = tf.reduce_mean(tf.nn.softmax_cross_entropy_with_logits(logits=logits, labels=tf_train_labels)) + beta_l2 * (tf.nn.l2_loss(weights1) + tf.nn.l2_loss(weights2))\n",
    "    \n",
    "    optimizer = tf.train.GradientDescentOptimizer(0.5).minimize(loss)\n",
    "    \n",
    "    hidden_train = tf.nn.relu(tf.matmul(tf_train_dataset, weights1) + biases1)\n",
    "    train_prediction = tf.nn.softmax(tf.matmul(hidden_train, weights2) + biases2)\n",
    "    hidden_valid = tf.nn.relu(tf.matmul(tf_valid_dataset, weights1) + biases1)\n",
    "    valid_prediction = tf.nn.softmax(tf.matmul(hidden_valid, weights2) + biases2)\n",
    "    hidden_test = tf.nn.relu(tf.matmul(tf_test_dataset, weights1) + biases1)\n",
    "    test_prediction = tf.nn.softmax(tf.matmul(hidden_test, weights2) + biases2)"
   ]
  },
  {
   "cell_type": "code",
   "execution_count": 15,
   "metadata": {
    "collapsed": false,
    "scrolled": false
   },
   "outputs": [
    {
     "name": "stdout",
     "output_type": "stream",
     "text": [
      "Minibatch Loss at step 0: 831.439697\n",
      "Minibatch Accuracy: 9.4%\n",
      "Validation Accuracy: 32.9%\n",
      "Minibatch Loss at step 8: 315.147736\n",
      "Minibatch Accuracy: 99.2%\n",
      "Validation Accuracy: 70.2%\n",
      "Minibatch Loss at step 16: 310.407257\n",
      "Minibatch Accuracy: 100.0%\n",
      "Validation Accuracy: 70.0%\n",
      "Minibatch Loss at step 24: 307.943634\n",
      "Minibatch Accuracy: 100.0%\n",
      "Validation Accuracy: 70.4%\n",
      "Minibatch Loss at step 32: 305.499390\n",
      "Minibatch Accuracy: 100.0%\n",
      "Validation Accuracy: 71.6%\n",
      "Minibatch Loss at step 40: 304.765137\n",
      "Minibatch Accuracy: 100.0%\n",
      "Validation Accuracy: 71.1%\n",
      "Minibatch Loss at step 48: 300.665253\n",
      "Minibatch Accuracy: 100.0%\n",
      "Validation Accuracy: 71.0%\n",
      "Test set Accuracy: 78.5%\n"
     ]
    }
   ],
   "source": [
    "num_steps = 51\n",
    "num_batches = 3\n",
    "\n",
    "with tf.Session(graph=graph) as session:\n",
    "    tf.global_variables_initializer().run()\n",
    "    \n",
    "    for step in range(num_steps):\n",
    "        offset = step % num_batches\n",
    "        batch_data = train_dataset[offset:offset + batch_size,:]\n",
    "        batch_label = train_labels[offset:offset + batch_size,:]\n",
    "        feed_dict = {tf_train_dataset:batch_data, tf_train_labels:batch_label, beta_l2:1e-3, keep_prob:0.5}\n",
    "        _, l, predictions = session.run([optimizer, loss, train_prediction], feed_dict=feed_dict)\n",
    "        if step%8 == 0:\n",
    "            print(\"Minibatch Loss at step %d: %f\" % (step, l))\n",
    "            print(\"Minibatch Accuracy: %.1f%%\" % accuracy(predictions, batch_label))\n",
    "            print(\"Validation Accuracy: %.1f%%\" % accuracy(valid_prediction.eval(), valid_labels))\n",
    "    print(\"Test set Accuracy: %.1f%%\" % accuracy(test_prediction.eval(), test_labels))"
   ]
  },
  {
   "cell_type": "markdown",
   "metadata": {},
   "source": [
    "So here our new model with dropout is capable of better generalization than previous overfitting model by 5%"
   ]
  },
  {
   "cell_type": "markdown",
   "metadata": {
    "colab_type": "text",
    "id": "-b1hTz3VWZjw"
   },
   "source": [
    "---\n",
    "Problem 4\n",
    "---------\n",
    "\n",
    "Try to get the best performance you can using a multi-layer model! The best reported test accuracy using a deep network is [97.1%](http://yaroslavvb.blogspot.com/2011/09/notmnist-dataset.html?showComment=1391023266211#c8758720086795711595).\n",
    "\n",
    "One avenue you can explore is to add multiple layers.\n",
    "\n",
    "Another one is to use learning rate decay:\n",
    "\n",
    "    global_step = tf.Variable(0)  # count the number of steps taken.\n",
    "    learning_rate = tf.train.exponential_decay(0.5, global_step, ...)\n",
    "    optimizer = tf.train.GradientDescentOptimizer(learning_rate).minimize(loss, global_step=global_step)\n",
    " \n",
    " ---\n"
   ]
  },
  {
   "cell_type": "code",
   "execution_count": 33,
   "metadata": {
    "collapsed": false
   },
   "outputs": [],
   "source": [
    "batch_size = 128\n",
    "num_hidden1 = 1024\n",
    "num_hidden2 = 256\n",
    "\n",
    "graph = tf.Graph()\n",
    "with graph.as_default():\n",
    "    tf_train_dataset = tf.placeholder(tf.float32, shape=(batch_size, image_size*image_size))\n",
    "    tf_train_labels = tf.placeholder(tf.float32, shape=(batch_size, num_labels))\n",
    "    tf_valid_dataset = tf.constant(valid_dataset)\n",
    "    tf_test_dataset = tf.constant(test_dataset)\n",
    "    beta_l2 = tf.placeholder(tf.float32)\n",
    "    keep_prob1 = tf.placeholder(tf.float32)\n",
    "    keep_prob2 = tf.placeholder(tf.float32)\n",
    "    global_step = tf.Variable(0) \n",
    "    \n",
    "    weights1 = tf.Variable(tf.truncated_normal([image_size*image_size, num_hidden1], stddev=np.sqrt(2.0 / (image_size * image_size))))\n",
    "    biases1 = tf.Variable(tf.zeros(num_hidden1))\n",
    "    \n",
    "    weights2 = tf.Variable(tf.truncated_normal([num_hidden1, num_hidden2], stddev=np.sqrt(2.0 / num_hidden1)))\n",
    "    biases2 = tf.Variable(tf.zeros(num_hidden2))\n",
    "    \n",
    "    weights3 = tf.Variable(tf.truncated_normal([num_hidden2, num_labels], stddev=np.sqrt(2.0 / num_hidden2)))\n",
    "    biases3 = tf.Variable(tf.zeros(num_labels))\n",
    "    \n",
    "    hidden1_train_drop = tf.nn.relu(tf.matmul(tf_train_dataset, weights1) + biases1)\n",
    "    hidden2_train_drop = tf.nn.relu(tf.matmul(hidden1_train_drop, weights2) + biases2)\n",
    "    logits = tf.matmul(hidden2_train_drop, weights3) + biases3\n",
    "    \n",
    "    loss = tf.reduce_mean(tf.nn.softmax_cross_entropy_with_logits(logits=logits, labels=tf_train_labels)) + \\\n",
    "    beta_l2 * (tf.nn.l2_loss(weights1) + tf.nn.l2_loss(weights2) + tf.nn.l2_loss(weights3))\n",
    "    \n",
    "    learning_rate = tf.train.exponential_decay(0.5, global_step, 1000, 0.65, staircase=True)\n",
    "    \n",
    "    optimizer = tf.train.GradientDescentOptimizer(learning_rate).minimize(loss, global_step=global_step)\n",
    "    \n",
    "    hidden1_train = tf.nn.relu(tf.matmul(tf_train_dataset, weights1) + biases1)\n",
    "    hidden2_train = tf.nn.relu(tf.matmul(hidden1_train, weights2) + biases2)\n",
    "    train_prediction = tf.nn.softmax(tf.matmul(hidden2_train, weights3) + biases3)\n",
    "    hidden1_valid = tf.nn.relu(tf.matmul(tf_valid_dataset, weights1) + biases1)\n",
    "    hidden2_valid = tf.nn.relu(tf.matmul(hidden1_valid, weights2) + biases2)\n",
    "    valid_prediction = tf.nn.softmax(tf.matmul(hidden2_valid, weights3) + biases3)\n",
    "    hidden1_test = tf.nn.relu(tf.matmul(tf_test_dataset, weights1) + biases1)\n",
    "    hidden2_test = tf.nn.relu(tf.matmul(hidden1_test, weights2) + biases2)\n",
    "    test_prediction = tf.nn.softmax(tf.matmul(hidden2_test, weights3) + biases3)\n",
    "    "
   ]
  },
  {
   "cell_type": "code",
   "execution_count": 34,
   "metadata": {
    "collapsed": false
   },
   "outputs": [
    {
     "name": "stdout",
     "output_type": "stream",
     "text": [
      "Minibatch Loss at step 0: 3.380093\n",
      "Minibatch Accuracy: 6.2%\n",
      "Validation Accuracy: 43.7%\n",
      "Minibatch Loss at step 500: 1.118487\n",
      "Minibatch Accuracy: 83.6%\n",
      "Validation Accuracy: 86.3%\n",
      "Minibatch Loss at step 1000: 0.823058\n",
      "Minibatch Accuracy: 88.3%\n",
      "Validation Accuracy: 87.5%\n",
      "Minibatch Loss at step 1500: 0.759332\n",
      "Minibatch Accuracy: 85.2%\n",
      "Validation Accuracy: 88.0%\n",
      "Minibatch Loss at step 2000: 0.557507\n",
      "Minibatch Accuracy: 90.6%\n",
      "Validation Accuracy: 88.5%\n",
      "Minibatch Loss at step 2500: 0.470500\n",
      "Minibatch Accuracy: 93.0%\n",
      "Validation Accuracy: 88.8%\n",
      "Minibatch Loss at step 3000: 0.560995\n",
      "Minibatch Accuracy: 88.3%\n",
      "Validation Accuracy: 89.0%\n",
      "Test set Accuracy: 94.6%\n"
     ]
    }
   ],
   "source": [
    "num_steps = 3001\n",
    "\n",
    "with tf.Session(graph=graph) as session:\n",
    "    tf.global_variables_initializer().run()\n",
    "    \n",
    "    for step in range(num_steps):\n",
    "        offset = (step * batch_size) % (train_dataset.shape[0] - batch_size)\n",
    "        batch_data = train_dataset[offset:offset + batch_size,:]\n",
    "        batch_label = train_labels[offset:offset + batch_size,:]\n",
    "        feed_dict = {tf_train_dataset:batch_data, tf_train_labels:batch_label, beta_l2:1e-3, keep_prob1:0.5, keep_prob2:0.8}\n",
    "        _, l, predictions = session.run([optimizer, loss, train_prediction], feed_dict=feed_dict)\n",
    "        if step%500 == 0:\n",
    "            print(\"Minibatch Loss at step %d: %f\" % (step, l))\n",
    "            print(\"Minibatch Accuracy: %.1f%%\" % accuracy(predictions, batch_label))\n",
    "            print(\"Validation Accuracy: %.1f%%\" % accuracy(valid_prediction.eval(), valid_labels))\n",
    "    print(\"Test set Accuracy: %.1f%%\" % accuracy(test_prediction.eval(), test_labels))"
   ]
  },
  {
   "cell_type": "code",
   "execution_count": null,
   "metadata": {
    "collapsed": true
   },
   "outputs": [],
   "source": []
  }
 ],
 "metadata": {
  "colab": {
   "default_view": {},
   "name": "3_regularization.ipynb",
   "provenance": [],
   "version": "0.3.2",
   "views": {}
  },
  "kernelspec": {
   "display_name": "Python [conda env:tensorflow]",
   "language": "python",
   "name": "conda-env-tensorflow-py"
  },
  "language_info": {
   "codemirror_mode": {
    "name": "ipython",
    "version": 2
   },
   "file_extension": ".py",
   "mimetype": "text/x-python",
   "name": "python",
   "nbconvert_exporter": "python",
   "pygments_lexer": "ipython2",
   "version": "2.7.13"
  }
 },
 "nbformat": 4,
 "nbformat_minor": 0
}
